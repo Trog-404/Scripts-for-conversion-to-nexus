{
 "cells": [
  {
   "cell_type": "code",
   "execution_count": 2,
   "id": "8f9f0cb2-d6ea-4543-a61c-81c292752b70",
   "metadata": {},
   "outputs": [],
   "source": [
    "import h5py\n",
    "import numpy as np\n",
    "from common import write_data, write_from_multiple_jsons"
   ]
  },
  {
   "cell_type": "code",
   "execution_count": null,
   "id": "029f4549-fa18-46cb-8601-749857e34109",
   "metadata": {},
   "outputs": [],
   "source": []
  }
 ],
 "metadata": {
  "kernelspec": {
   "display_name": "Python 3 (ipykernel)",
   "language": "python",
   "name": "python3"
  },
  "language_info": {
   "codemirror_mode": {
    "name": "ipython",
    "version": 3
   },
   "file_extension": ".py",
   "mimetype": "text/x-python",
   "name": "python",
   "nbconvert_exporter": "python",
   "pygments_lexer": "ipython3",
   "version": "3.10.12"
  }
 },
 "nbformat": 4,
 "nbformat_minor": 5
}
